{
 "cells": [
  {
   "cell_type": "code",
   "execution_count": 1,
   "id": "61476da3",
   "metadata": {},
   "outputs": [],
   "source": [
    "import os\n",
    "import io\n",
    "import json\n",
    "import pandas as pd\n",
    "from pathlib import Path\n",
    "from datetime import datetime\n",
    "from time import perf_counter\n",
    "from dotenv import load_dotenv\n",
    "from google.cloud import bigquery\n",
    "\n",
    "FILEPATH = Path('../')\n",
    "load_dotenv('../secrets/.env', override=True)\n",
    "\n",
    "GCP_PROJECT_NAME = os.getenv('GCP_PROJECT_NAME')\n",
    "GCP_DATASET_NAME = os.getenv('GCP_DATASET_NAME')\n",
    "\n",
    "client = bigquery.Client.from_service_account_json(FILEPATH / 'secrets' / os.getenv('SERVICE_ACCOUNT_FILE'))\n",
    "dataset = client.dataset(GCP_DATASET_NAME)"
   ]
  },
  {
   "cell_type": "markdown",
   "id": "841c0bb6",
   "metadata": {},
   "source": [
    "# Loading Data into Bigquery Tables\n",
    "\n",
    "One time loading process to insert data into bigquery tables. Automatic pipelines will be placed in another script."
   ]
  },
  {
   "cell_type": "markdown",
   "id": "633bd067",
   "metadata": {},
   "source": [
    "## Investment\n",
    "\n",
    "### ASNB"
   ]
  },
  {
   "cell_type": "code",
   "execution_count": 34,
   "id": "546f7e88",
   "metadata": {},
   "outputs": [
    {
     "data": {
      "text/plain": [
       "0"
      ]
     },
     "execution_count": 34,
     "metadata": {},
     "output_type": "execute_result"
    }
   ],
   "source": [
    "with open(FILEPATH / 'data/investment_vehicles/asnb.json', 'r') as f:\n",
    "    asnb_data = json.loads(f.read())\n",
    "    asnb_df = pd.DataFrame.from_records(asnb_data['data'])\n",
    "    asnb_df['year'] = pd.to_datetime(asnb_df['year'], format='%Y')\n",
    "\n",
    "buf = io.BytesIO()\n",
    "asnb_df.to_csv(buf, index=False)\n",
    "buf.seek(0)"
   ]
  },
  {
   "cell_type": "code",
   "execution_count": null,
   "id": "0a2647f7",
   "metadata": {},
   "outputs": [
    {
     "name": "stdout",
     "output_type": "stream",
     "text": [
      "Loading data into table investment_asnb...\n",
      "Job finished\n",
      "Successfully loaded 36 rows into the table\n"
     ]
    }
   ],
   "source": [
    "table_ref = dataset.table('investment_asnb')\n",
    "\n",
    "initial_row_count = client.get_table(table_ref).num_rows\n",
    "\n",
    "job_config = bigquery.LoadJobConfig()\n",
    "job_config.write_disposition = bigquery.WriteDisposition.WRITE_APPEND\n",
    "job_config.skip_leading_rows = 1\n",
    "job_config.source_format = bigquery.SourceFormat.CSV\n",
    "load_job = client.load_table_from_file(\n",
    "    buf, table_ref, job_config=job_config\n",
    ")\n",
    "print(f'Loading data into table {table_ref.table_id}...')\n",
    "\n",
    "load_job.result()\n",
    "loaded_rows = client.get_table(table_ref).num_rows - initial_row_count\n",
    "\n",
    "print('Job finished')\n",
    "print(f'Successfully loaded {loaded_rows} rows into the table')"
   ]
  },
  {
   "cell_type": "markdown",
   "id": "3fae8bdc",
   "metadata": {},
   "source": [
    "### KWSP"
   ]
  },
  {
   "cell_type": "code",
   "execution_count": null,
   "id": "562c4733",
   "metadata": {},
   "outputs": [
    {
     "data": {
      "text/plain": [
       "0"
      ]
     },
     "execution_count": 38,
     "metadata": {},
     "output_type": "execute_result"
    }
   ],
   "source": [
    "with open(FILEPATH / 'data/investment_vehicles/kwsp.json', 'r') as f:\n",
    "    kwsp_data = json.loads(f.read())\n",
    "    kwsp_df = pd.DataFrame.from_records(kwsp_data['data'])\n",
    "    kwsp_df['year'] = pd.to_datetime(kwsp_df['year'], format='%Y')\n",
    "\n",
    "buf = io.BytesIO()\n",
    "kwsp_df.to_csv(buf, index=False)\n",
    "buf.seek(0)"
   ]
  },
  {
   "cell_type": "code",
   "execution_count": 39,
   "id": "bbf2b8cb",
   "metadata": {},
   "outputs": [
    {
     "name": "stdout",
     "output_type": "stream",
     "text": [
      "Loading data into table investment_kwsp...\n",
      "Job finished\n",
      "Successfully loaded 74 rows into the table\n"
     ]
    }
   ],
   "source": [
    "table_ref = dataset.table('investment_kwsp')\n",
    "\n",
    "initial_row_count = client.get_table(table_ref).num_rows\n",
    "\n",
    "job_config = bigquery.LoadJobConfig()\n",
    "job_config.write_disposition = bigquery.WriteDisposition.WRITE_APPEND\n",
    "job_config.skip_leading_rows = 1\n",
    "job_config.source_format = bigquery.SourceFormat.CSV\n",
    "load_job = client.load_table_from_file(\n",
    "    buf, table_ref, job_config=job_config\n",
    ")\n",
    "print(f'Loading data into table {table_ref.table_id}...')\n",
    "\n",
    "load_job.result()\n",
    "loaded_rows = client.get_table(table_ref).num_rows - initial_row_count\n",
    "\n",
    "print('Job finished')\n",
    "print(f'Successfully loaded {loaded_rows} rows into the table')"
   ]
  },
  {
   "cell_type": "markdown",
   "id": "9ce39bed",
   "metadata": {},
   "source": [
    "### Tabung Haji"
   ]
  },
  {
   "cell_type": "code",
   "execution_count": 42,
   "id": "c5ddf8d7",
   "metadata": {},
   "outputs": [
    {
     "data": {
      "text/plain": [
       "0"
      ]
     },
     "execution_count": 42,
     "metadata": {},
     "output_type": "execute_result"
    }
   ],
   "source": [
    "with open(FILEPATH / 'data/investment_vehicles/tabung_haji.json', 'r') as f:\n",
    "    tabung_haji_data = json.loads(f.read())\n",
    "    tabung_haji_df = pd.DataFrame.from_records(tabung_haji_data['data'])\n",
    "    tabung_haji_df['year'] = pd.to_datetime(tabung_haji_df['year'], format='%Y')\n",
    "\n",
    "buf = io.BytesIO()\n",
    "tabung_haji_df.to_csv(buf, index=False)\n",
    "buf.seek(0)"
   ]
  },
  {
   "cell_type": "code",
   "execution_count": 43,
   "id": "82156311",
   "metadata": {},
   "outputs": [
    {
     "name": "stdout",
     "output_type": "stream",
     "text": [
      "Loading data into table investment_tabung_haji...\n",
      "Job finished\n",
      "Successfully loaded 31 rows into the table\n"
     ]
    }
   ],
   "source": [
    "table_ref = dataset.table('investment_tabung_haji')\n",
    "\n",
    "initial_row_count = client.get_table(table_ref).num_rows\n",
    "\n",
    "job_config = bigquery.LoadJobConfig()\n",
    "job_config.write_disposition = bigquery.WriteDisposition.WRITE_APPEND\n",
    "job_config.skip_leading_rows = 1\n",
    "job_config.source_format = bigquery.SourceFormat.CSV\n",
    "load_job = client.load_table_from_file(\n",
    "    buf, table_ref, job_config=job_config\n",
    ")\n",
    "print(f'Loading data into table {table_ref.table_id}...')\n",
    "\n",
    "load_job.result()\n",
    "loaded_rows = client.get_table(table_ref).num_rows - initial_row_count\n",
    "\n",
    "print('Job finished')\n",
    "print(f'Successfully loaded {loaded_rows} rows into the table')"
   ]
  },
  {
   "cell_type": "markdown",
   "id": "1f7f7b15",
   "metadata": {},
   "source": [
    "## Bonds\n",
    "\n",
    "### Government Investment Issues"
   ]
  },
  {
   "cell_type": "code",
   "execution_count": 45,
   "id": "72869ecb",
   "metadata": {},
   "outputs": [
    {
     "data": {
      "text/plain": [
       "0"
      ]
     },
     "execution_count": 45,
     "metadata": {},
     "output_type": "execute_result"
    }
   ],
   "source": [
    "with open(FILEPATH / 'data/investment_vehicles/government_investment_issues.json', 'r') as f:\n",
    "    gov_issue_data = json.loads(f.read())\n",
    "    gov_issue_df = pd.DataFrame.from_records(gov_issue_data['data'])\n",
    "\n",
    "buf = io.BytesIO()\n",
    "gov_issue_df.to_csv(buf, index=False)\n",
    "buf.seek(0)"
   ]
  },
  {
   "cell_type": "code",
   "execution_count": 46,
   "id": "539cdebb",
   "metadata": {},
   "outputs": [
    {
     "name": "stdout",
     "output_type": "stream",
     "text": [
      "Loading data into table bonds_government_investment_issues...\n",
      "Job finished\n",
      "Successfully loaded 11963 rows into the table\n"
     ]
    }
   ],
   "source": [
    "table_ref = dataset.table('bonds_government_investment_issues')\n",
    "\n",
    "initial_row_count = client.get_table(table_ref).num_rows\n",
    "\n",
    "job_config = bigquery.LoadJobConfig()\n",
    "job_config.write_disposition = bigquery.WriteDisposition.WRITE_APPEND\n",
    "job_config.skip_leading_rows = 1\n",
    "job_config.source_format = bigquery.SourceFormat.CSV\n",
    "load_job = client.load_table_from_file(\n",
    "    buf, table_ref, job_config=job_config\n",
    ")\n",
    "print(f'Loading data into table {table_ref.table_id}...')\n",
    "\n",
    "load_job.result()\n",
    "loaded_rows = client.get_table(table_ref).num_rows - initial_row_count\n",
    "\n",
    "print('Job finished')\n",
    "print(f'Successfully loaded {loaded_rows} rows into the table')"
   ]
  },
  {
   "cell_type": "markdown",
   "id": "14f4b255",
   "metadata": {},
   "source": [
    "### Malaysian Government Securities"
   ]
  },
  {
   "cell_type": "code",
   "execution_count": 49,
   "id": "efbe390e",
   "metadata": {},
   "outputs": [
    {
     "data": {
      "text/plain": [
       "0"
      ]
     },
     "execution_count": 49,
     "metadata": {},
     "output_type": "execute_result"
    }
   ],
   "source": [
    "with open(FILEPATH / 'data/investment_vehicles/malaysian_government_securities.json', 'r') as f:\n",
    "    gov_securities_data = json.loads(f.read())\n",
    "    gov_securities_df = pd.DataFrame.from_records(gov_securities_data['data'])\n",
    "\n",
    "buf = io.BytesIO()\n",
    "gov_securities_df.to_csv(buf, index=False)\n",
    "buf.seek(0)"
   ]
  },
  {
   "cell_type": "code",
   "execution_count": 51,
   "id": "c4be047f",
   "metadata": {},
   "outputs": [
    {
     "name": "stdout",
     "output_type": "stream",
     "text": [
      "Loading data into table bonds_government_securitites...\n",
      "Job finished\n",
      "Successfully loaded 19147 rows into the table\n"
     ]
    }
   ],
   "source": [
    "table_ref = dataset.table('bonds_government_securitites')\n",
    "\n",
    "initial_row_count = client.get_table(table_ref).num_rows\n",
    "\n",
    "job_config = bigquery.LoadJobConfig()\n",
    "job_config.write_disposition = bigquery.WriteDisposition.WRITE_APPEND\n",
    "job_config.skip_leading_rows = 1\n",
    "job_config.source_format = bigquery.SourceFormat.CSV\n",
    "load_job = client.load_table_from_file(\n",
    "    buf, table_ref, job_config=job_config\n",
    ")\n",
    "print(f'Loading data into table {table_ref.table_id}...')\n",
    "\n",
    "load_job.result()\n",
    "loaded_rows = client.get_table(table_ref).num_rows - initial_row_count\n",
    "\n",
    "print('Job finished')\n",
    "print(f'Successfully loaded {loaded_rows} rows into the table')"
   ]
  },
  {
   "cell_type": "markdown",
   "id": "2cba7cd1",
   "metadata": {},
   "source": [
    "## Pricecatcher\n",
    "\n",
    "### Item Lookup"
   ]
  },
  {
   "cell_type": "code",
   "execution_count": 56,
   "id": "1d7ebfce",
   "metadata": {},
   "outputs": [
    {
     "name": "stdout",
     "output_type": "stream",
     "text": [
      "Loading data into table pricecatcher_item_lookup...\n",
      "Job finished\n",
      "Successfully loaded 757 rows into the table\n"
     ]
    }
   ],
   "source": [
    "with open(FILEPATH / 'data/consumer_metrics/lookup_item.parquet', 'rb') as f:\n",
    "    buf = io.BytesIO(f.read())\n",
    "    buf.seek(0)\n",
    "\n",
    "table_ref = dataset.table('pricecatcher_item_lookup')\n",
    "initial_row_count = client.get_table(table_ref).num_rows\n",
    "\n",
    "job_config = bigquery.LoadJobConfig()\n",
    "job_config.write_disposition = bigquery.WriteDisposition.WRITE_APPEND\n",
    "job_config.source_format = bigquery.SourceFormat.PARQUET\n",
    "load_job = client.load_table_from_file(\n",
    "    buf, table_ref, job_config=job_config\n",
    ")\n",
    "print(f'Loading data into table {table_ref.table_id}...')\n",
    "\n",
    "load_job.result()\n",
    "loaded_rows = client.get_table(table_ref).num_rows - initial_row_count\n",
    "\n",
    "print('Job finished')\n",
    "print(f'Successfully loaded {loaded_rows} rows into the table')"
   ]
  },
  {
   "cell_type": "markdown",
   "id": "1ef0f745",
   "metadata": {},
   "source": [
    "### Premise Lookup"
   ]
  },
  {
   "cell_type": "code",
   "execution_count": 82,
   "id": "d8ba8bda",
   "metadata": {},
   "outputs": [
    {
     "name": "stdout",
     "output_type": "stream",
     "text": [
      "Loading data into table pricecatcher_premise_lookup...\n",
      "Job finished\n",
      "Successfully loaded 2995 rows into the table\n"
     ]
    }
   ],
   "source": [
    "premise_df = (\n",
    "    pd.read_parquet(FILEPATH / 'data/consumer_metrics/lookup_premise.parquet')\n",
    "    .dropna(how='all', subset='premise_code')\n",
    "    .astype({'premise_code': int})\n",
    ")\n",
    "\n",
    "buf = io.BytesIO()\n",
    "premise_df.to_parquet(buf, index=False)\n",
    "buf.seek(0)\n",
    "\n",
    "table_ref = dataset.table('pricecatcher_premise_lookup')\n",
    "initial_row_count = client.get_table(table_ref).num_rows\n",
    "\n",
    "job_config = bigquery.LoadJobConfig()\n",
    "job_config.write_disposition = bigquery.WriteDisposition.WRITE_APPEND\n",
    "job_config.source_format = bigquery.SourceFormat.PARQUET\n",
    "load_job = client.load_table_from_file(\n",
    "    buf, table_ref, job_config=job_config\n",
    ")\n",
    "print(f'Loading data into table {table_ref.table_id}...')\n",
    "\n",
    "load_job.result()\n",
    "loaded_rows = client.get_table(table_ref).num_rows - initial_row_count\n",
    "\n",
    "print('Job finished')\n",
    "print(f'Successfully loaded {loaded_rows} rows into the table')\n"
   ]
  },
  {
   "cell_type": "markdown",
   "id": "1ac4c0f6",
   "metadata": {},
   "source": [
    "### Pricecatcher Transactions"
   ]
  },
  {
   "cell_type": "code",
   "execution_count": 3,
   "id": "1a4eef45",
   "metadata": {},
   "outputs": [],
   "source": [
    "def batch_slice(df, batch_size):\n",
    "    n = df.shape[0]\n",
    "    for i in range(0, n//batch_size + 1):\n",
    "        yield df.loc[batch_size*i:batch_size*(i+1)-1, :]"
   ]
  },
  {
   "cell_type": "code",
   "execution_count": null,
   "id": "7fb60d40",
   "metadata": {},
   "outputs": [
    {
     "name": "stdout",
     "output_type": "stream",
     "text": [
      "Loaded data to buffer in 0.057 seconds\n",
      "Loading data into table pricecatcher_transactional_record...\n",
      "Job finished\n",
      "Successfully loaded 1000000 rows into the table after 3.379 seconds\n",
      "Loaded data to buffer in 0.058 seconds\n",
      "Loading data into table pricecatcher_transactional_record...\n",
      "Job finished\n",
      "Successfully loaded 1000000 rows into the table after 3.681 seconds\n",
      "Loaded data to buffer in 0.052 seconds\n",
      "Loading data into table pricecatcher_transactional_record...\n",
      "Job finished\n",
      "Successfully loaded 1000000 rows into the table after 3.898 seconds\n",
      "Loaded data to buffer in 0.061 seconds\n",
      "Loading data into table pricecatcher_transactional_record...\n",
      "Job finished\n",
      "Successfully loaded 1000000 rows into the table after 3.251 seconds\n",
      "Loaded data to buffer in 0.060 seconds\n",
      "Loading data into table pricecatcher_transactional_record...\n",
      "Job finished\n",
      "Successfully loaded 1000000 rows into the table after 3.507 seconds\n",
      "Loaded data to buffer in 0.059 seconds\n",
      "Loading data into table pricecatcher_transactional_record...\n",
      "Job finished\n",
      "Successfully loaded 1000000 rows into the table after 4.292 seconds\n",
      "Loaded data to buffer in 0.063 seconds\n",
      "Loading data into table pricecatcher_transactional_record...\n",
      "Job finished\n",
      "Successfully loaded 1000000 rows into the table after 1.832 seconds\n",
      "Loaded data to buffer in 0.058 seconds\n",
      "Loading data into table pricecatcher_transactional_record...\n",
      "Job finished\n",
      "Successfully loaded 1000000 rows into the table after 3.152 seconds\n",
      "Loaded data to buffer in 0.058 seconds\n",
      "Loading data into table pricecatcher_transactional_record...\n",
      "Job finished\n",
      "Successfully loaded 1000000 rows into the table after 2.904 seconds\n",
      "Loaded data to buffer in 0.060 seconds\n",
      "Loading data into table pricecatcher_transactional_record...\n",
      "Job finished\n",
      "Successfully loaded 1000000 rows into the table after 2.843 seconds\n",
      "Loaded data to buffer in 0.062 seconds\n",
      "Loading data into table pricecatcher_transactional_record...\n",
      "Job finished\n",
      "Successfully loaded 1000000 rows into the table after 2.042 seconds\n",
      "Loaded data to buffer in 0.062 seconds\n",
      "Loading data into table pricecatcher_transactional_record...\n",
      "Job finished\n",
      "Successfully loaded 1000000 rows into the table after 3.815 seconds\n",
      "Loaded data to buffer in 0.061 seconds\n",
      "Loading data into table pricecatcher_transactional_record...\n",
      "Job finished\n",
      "Successfully loaded 1000000 rows into the table after 3.609 seconds\n",
      "Loaded data to buffer in 0.062 seconds\n",
      "Loading data into table pricecatcher_transactional_record...\n",
      "Job finished\n",
      "Successfully loaded 1000000 rows into the table after 4.060 seconds\n",
      "Loaded data to buffer in 0.063 seconds\n",
      "Loading data into table pricecatcher_transactional_record...\n",
      "Job finished\n",
      "Successfully loaded 1000000 rows into the table after 3.298 seconds\n",
      "Loaded data to buffer in 0.061 seconds\n",
      "Loading data into table pricecatcher_transactional_record...\n",
      "Job finished\n",
      "Successfully loaded 1000000 rows into the table after 2.344 seconds\n",
      "Loaded data to buffer in 0.056 seconds\n",
      "Loading data into table pricecatcher_transactional_record...\n",
      "Job finished\n",
      "Successfully loaded 1000000 rows into the table after 3.943 seconds\n",
      "Loaded data to buffer in 0.058 seconds\n",
      "Loading data into table pricecatcher_transactional_record...\n",
      "Job finished\n",
      "Successfully loaded 1000000 rows into the table after 4.471 seconds\n",
      "Loaded data to buffer in 0.057 seconds\n",
      "Loading data into table pricecatcher_transactional_record...\n",
      "Job finished\n",
      "Successfully loaded 1000000 rows into the table after 3.001 seconds\n",
      "Loaded data to buffer in 0.056 seconds\n",
      "Loading data into table pricecatcher_transactional_record...\n",
      "Job finished\n",
      "Successfully loaded 1000000 rows into the table after 3.505 seconds\n",
      "Loaded data to buffer in 0.058 seconds\n",
      "Loading data into table pricecatcher_transactional_record...\n",
      "Job finished\n",
      "Successfully loaded 1000000 rows into the table after 2.720 seconds\n",
      "Loaded data to buffer in 0.062 seconds\n",
      "Loading data into table pricecatcher_transactional_record...\n",
      "Job finished\n",
      "Successfully loaded 1000000 rows into the table after 2.450 seconds\n",
      "Loaded data to buffer in 0.057 seconds\n",
      "Loading data into table pricecatcher_transactional_record...\n",
      "Job finished\n",
      "Successfully loaded 1000000 rows into the table after 4.892 seconds\n",
      "Loaded data to buffer in 0.059 seconds\n",
      "Loading data into table pricecatcher_transactional_record...\n",
      "Job finished\n",
      "Successfully loaded 1000000 rows into the table after 4.763 seconds\n",
      "Loaded data to buffer in 0.058 seconds\n",
      "Loading data into table pricecatcher_transactional_record...\n",
      "Job finished\n",
      "Successfully loaded 1000000 rows into the table after 4.422 seconds\n",
      "Loaded data to buffer in 0.060 seconds\n",
      "Loading data into table pricecatcher_transactional_record...\n",
      "Job finished\n",
      "Successfully loaded 1000000 rows into the table after 3.201 seconds\n",
      "Loaded data to buffer in 0.060 seconds\n",
      "Loading data into table pricecatcher_transactional_record...\n",
      "Job finished\n",
      "Successfully loaded 1000000 rows into the table after 5.023 seconds\n",
      "Loaded data to buffer in 0.060 seconds\n",
      "Loading data into table pricecatcher_transactional_record...\n",
      "Job finished\n",
      "Successfully loaded 1000000 rows into the table after 4.487 seconds\n",
      "Loaded data to buffer in 0.006 seconds\n",
      "Loading data into table pricecatcher_transactional_record...\n",
      "Job finished\n",
      "Successfully loaded 100352 rows into the table after 1.976 seconds\n",
      "Loaded data to buffer in 0.050 seconds\n",
      "Loading data into table pricecatcher_transactional_record...\n",
      "Job finished\n",
      "Successfully loaded 1000000 rows into the table after 2.274 seconds\n",
      "Loaded data to buffer in 0.059 seconds\n",
      "Loading data into table pricecatcher_transactional_record...\n",
      "Job finished\n",
      "Successfully loaded 1000000 rows into the table after 2.865 seconds\n",
      "Loaded data to buffer in 0.063 seconds\n",
      "Loading data into table pricecatcher_transactional_record...\n",
      "Job finished\n",
      "Successfully loaded 1000000 rows into the table after 4.705 seconds\n",
      "Loaded data to buffer in 0.062 seconds\n",
      "Loading data into table pricecatcher_transactional_record...\n",
      "Job finished\n",
      "Successfully loaded 1000000 rows into the table after 3.127 seconds\n",
      "Loaded data to buffer in 0.061 seconds\n",
      "Loading data into table pricecatcher_transactional_record...\n",
      "Job finished\n",
      "Successfully loaded 1000000 rows into the table after 5.427 seconds\n",
      "Loaded data to buffer in 0.060 seconds\n",
      "Loading data into table pricecatcher_transactional_record...\n",
      "Job finished\n",
      "Successfully loaded 1000000 rows into the table after 2.750 seconds\n",
      "Loaded data to buffer in 0.062 seconds\n",
      "Loading data into table pricecatcher_transactional_record...\n",
      "Job finished\n",
      "Successfully loaded 1000000 rows into the table after 1.959 seconds\n",
      "Loaded data to buffer in 0.064 seconds\n",
      "Loading data into table pricecatcher_transactional_record...\n",
      "Job finished\n",
      "Successfully loaded 1000000 rows into the table after 2.090 seconds\n",
      "Loaded data to buffer in 0.059 seconds\n",
      "Loading data into table pricecatcher_transactional_record...\n",
      "Job finished\n",
      "Successfully loaded 1000000 rows into the table after 3.061 seconds\n",
      "Loaded data to buffer in 0.059 seconds\n",
      "Loading data into table pricecatcher_transactional_record...\n",
      "Job finished\n",
      "Successfully loaded 1000000 rows into the table after 2.916 seconds\n",
      "Loaded data to buffer in 0.059 seconds\n",
      "Loading data into table pricecatcher_transactional_record...\n",
      "Job finished\n",
      "Successfully loaded 1000000 rows into the table after 2.630 seconds\n",
      "Loaded data to buffer in 0.057 seconds\n",
      "Loading data into table pricecatcher_transactional_record...\n",
      "Job finished\n",
      "Successfully loaded 1000000 rows into the table after 2.726 seconds\n",
      "Loaded data to buffer in 0.061 seconds\n",
      "Loading data into table pricecatcher_transactional_record...\n",
      "Job finished\n",
      "Successfully loaded 1000000 rows into the table after 1.898 seconds\n",
      "Loaded data to buffer in 0.059 seconds\n",
      "Loading data into table pricecatcher_transactional_record...\n",
      "Job finished\n",
      "Successfully loaded 1000000 rows into the table after 2.865 seconds\n",
      "Loaded data to buffer in 0.058 seconds\n",
      "Loading data into table pricecatcher_transactional_record...\n",
      "Job finished\n",
      "Successfully loaded 1000000 rows into the table after 3.202 seconds\n",
      "Loaded data to buffer in 0.058 seconds\n",
      "Loading data into table pricecatcher_transactional_record...\n",
      "Job finished\n",
      "Successfully loaded 1000000 rows into the table after 2.904 seconds\n",
      "Loaded data to buffer in 0.051 seconds\n",
      "Loading data into table pricecatcher_transactional_record...\n",
      "Job finished\n",
      "Successfully loaded 1000000 rows into the table after 3.025 seconds\n",
      "Loaded data to buffer in 0.051 seconds\n",
      "Loading data into table pricecatcher_transactional_record...\n",
      "Job finished\n",
      "Successfully loaded 1000000 rows into the table after 2.975 seconds\n",
      "Loaded data to buffer in 0.063 seconds\n",
      "Loading data into table pricecatcher_transactional_record...\n",
      "Job finished\n",
      "Successfully loaded 1000000 rows into the table after 2.346 seconds\n",
      "Loaded data to buffer in 0.062 seconds\n",
      "Loading data into table pricecatcher_transactional_record...\n",
      "Job finished\n",
      "Successfully loaded 1000000 rows into the table after 2.083 seconds\n",
      "Loaded data to buffer in 0.057 seconds\n",
      "Loading data into table pricecatcher_transactional_record...\n",
      "Job finished\n",
      "Successfully loaded 1000000 rows into the table after 7.586 seconds\n",
      "Loaded data to buffer in 0.063 seconds\n",
      "Loading data into table pricecatcher_transactional_record...\n",
      "Job finished\n",
      "Successfully loaded 1000000 rows into the table after 4.112 seconds\n",
      "Loaded data to buffer in 0.062 seconds\n",
      "Loading data into table pricecatcher_transactional_record...\n",
      "Job finished\n",
      "Successfully loaded 1000000 rows into the table after 3.286 seconds\n",
      "Loaded data to buffer in 0.057 seconds\n",
      "Loading data into table pricecatcher_transactional_record...\n",
      "Job finished\n",
      "Successfully loaded 1000000 rows into the table after 3.354 seconds\n",
      "Loaded data to buffer in 0.053 seconds\n",
      "Loading data into table pricecatcher_transactional_record...\n",
      "Job finished\n",
      "Successfully loaded 1000000 rows into the table after 1.993 seconds\n",
      "Loaded data to buffer in 0.065 seconds\n",
      "Loading data into table pricecatcher_transactional_record...\n",
      "Job finished\n",
      "Successfully loaded 1000000 rows into the table after 2.629 seconds\n",
      "Loaded data to buffer in 0.062 seconds\n",
      "Loading data into table pricecatcher_transactional_record...\n",
      "Job finished\n",
      "Successfully loaded 1000000 rows into the table after 3.393 seconds\n",
      "Loaded data to buffer in 0.058 seconds\n",
      "Loading data into table pricecatcher_transactional_record...\n",
      "Job finished\n",
      "Successfully loaded 1000000 rows into the table after 3.548 seconds\n",
      "Loaded data to buffer in 0.014 seconds\n",
      "Loading data into table pricecatcher_transactional_record...\n",
      "Job finished\n",
      "Successfully loaded 246533 rows into the table after 2.687 seconds\n",
      "Loaded data to buffer in 0.051 seconds\n",
      "Loading data into table pricecatcher_transactional_record...\n",
      "Job finished\n",
      "Successfully loaded 1000000 rows into the table after 4.097 seconds\n",
      "Loaded data to buffer in 0.059 seconds\n",
      "Loading data into table pricecatcher_transactional_record...\n",
      "Job finished\n",
      "Successfully loaded 1000000 rows into the table after 2.711 seconds\n",
      "Loaded data to buffer in 0.061 seconds\n",
      "Loading data into table pricecatcher_transactional_record...\n",
      "Job finished\n",
      "Successfully loaded 1000000 rows into the table after 2.382 seconds\n",
      "Loaded data to buffer in 0.057 seconds\n",
      "Loading data into table pricecatcher_transactional_record...\n",
      "Job finished\n",
      "Successfully loaded 1000000 rows into the table after 3.740 seconds\n",
      "Loaded data to buffer in 0.060 seconds\n",
      "Loading data into table pricecatcher_transactional_record...\n",
      "Job finished\n",
      "Successfully loaded 1000000 rows into the table after 3.212 seconds\n",
      "Loaded data to buffer in 0.056 seconds\n",
      "Loading data into table pricecatcher_transactional_record...\n",
      "Job finished\n",
      "Successfully loaded 1000000 rows into the table after 2.793 seconds\n",
      "Loaded data to buffer in 0.055 seconds\n",
      "Loading data into table pricecatcher_transactional_record...\n",
      "Job finished\n",
      "Successfully loaded 1000000 rows into the table after 2.932 seconds\n",
      "Loaded data to buffer in 0.026 seconds\n",
      "Loading data into table pricecatcher_transactional_record...\n",
      "Job finished\n",
      "Successfully loaded 392310 rows into the table after 2.136 seconds\n"
     ]
    }
   ],
   "source": [
    "buf_timer = []\n",
    "upload_timer = []\n",
    "pricecatcher_paths = sorted([fp.path for fp in os.scandir(FILEPATH / 'data/consumer_metrics/') if fp.name.startswith('pricecatcher_annual')])\n",
    "\n",
    "for fp in pricecatcher_paths:\n",
    "    transaction_df = pd.read_parquet(fp)\n",
    "    transaction_df['date'] = pd.to_datetime(transaction_df['date'], format='%Y-%m-%d')\n",
    "    transaction_df = transaction_df.reset_index(drop=True).astype({'date': 'datetime64[s]'})\n",
    "\n",
    "    transaction_df.dtypes\n",
    "\n",
    "    for idx, df_slice in enumerate(batch_slice(transaction_df, 1_000_000)):\n",
    "        if idx == 0:\n",
    "            continue\n",
    "\n",
    "        buf_t = perf_counter()\n",
    "        buf = io.BytesIO()\n",
    "        df_slice.to_parquet(buf, index=False)\n",
    "        buf.seek(0)\n",
    "        buf_t2 = perf_counter() - buf_t\n",
    "        buf_timer.append(buf_t2)\n",
    "        print(f'Loaded data to buffer in {buf_t2:.3f} seconds')\n",
    "\n",
    "        table_ref = dataset.table('pricecatcher_transactional_record')\n",
    "        initial_row_count = client.get_table(table_ref).num_rows\n",
    "\n",
    "        job_config = bigquery.LoadJobConfig()\n",
    "        job_config.write_disposition = bigquery.WriteDisposition.WRITE_APPEND\n",
    "        job_config.source_format = bigquery.SourceFormat.PARQUET\n",
    "        load_job = client.load_table_from_file(\n",
    "            buf, table_ref, job_config=job_config\n",
    "        )\n",
    "        print(f'Loading data into table {table_ref.table_id}...')\n",
    "\n",
    "        load_t = perf_counter()\n",
    "        load_job.result()\n",
    "        load_t2 = perf_counter() - load_t\n",
    "        upload_timer.append(load_t2)\n",
    "        loaded_rows = client.get_table(table_ref).num_rows - initial_row_count\n",
    "\n",
    "        print('Job finished')\n",
    "        print(f'Successfully loaded {loaded_rows} rows into the table after {load_t2:.3f} seconds')"
   ]
  },
  {
   "cell_type": "code",
   "execution_count": 32,
   "id": "51b20599",
   "metadata": {},
   "outputs": [
    {
     "data": {
      "text/plain": [
       "count    66.000000\n",
       "mean      0.056866\n",
       "std       0.009801\n",
       "min       0.006492\n",
       "25%       0.056920\n",
       "50%       0.058954\n",
       "75%       0.061162\n",
       "max       0.064719\n",
       "dtype: float64"
      ]
     },
     "metadata": {},
     "output_type": "display_data"
    },
    {
     "data": {
      "image/png": "[encoded data removed]",
      "text/plain": [
       "<Figure size 640x480 with 1 Axes>"
      ]
     },
     "metadata": {},
     "output_type": "display_data"
    }
   ],
   "source": [
    "buf_series = pd.Series(buf_timer)\n",
    "buf_series.plot(kind='hist', xlabel='seconds', grid=True, title='Loading times for parquet data to buffer (s)')\n",
    "display(pd.Series(buf_series).describe())"
   ]
  },
  {
   "cell_type": "code",
   "execution_count": 33,
   "id": "f03c18ec",
   "metadata": {},
   "outputs": [
    {
     "data": {
      "text/plain": [
       "count    66.000000\n",
       "mean      3.260316\n",
       "std       1.000604\n",
       "min       1.832039\n",
       "25%       2.692937\n",
       "50%       3.094454\n",
       "75%       3.725701\n",
       "max       7.585578\n",
       "dtype: float64"
      ]
     },
     "metadata": {},
     "output_type": "display_data"
    },
    {
     "data": {
      "image/png": "[encoded data removed]",
      "text/plain": [
       "<Figure size 640x480 with 1 Axes>"
      ]
     },
     "metadata": {},
     "output_type": "display_data"
    }
   ],
   "source": [
    "upload_series = pd.Series(upload_timer)\n",
    "upload_series.plot(kind='hist', xlabel='seconds', grid=True, title='Uploading data to bigquery table (s)')\n",
    "display(pd.Series(upload_series).describe())"
   ]
  }
 ],
 "metadata": {
  "kernelspec": {
   "display_name": ".venv",
   "language": "python",
   "name": "python3"
  },
  "language_info": {
   "codemirror_mode": {
    "name": "ipython",
    "version": 3
   },
   "file_extension": ".py",
   "mimetype": "text/x-python",
   "name": "python",
   "nbconvert_exporter": "python",
   "pygments_lexer": "ipython3",
   "version": "3.13.3"
  }
 },
 "nbformat": 4,
 "nbformat_minor": 5
}
